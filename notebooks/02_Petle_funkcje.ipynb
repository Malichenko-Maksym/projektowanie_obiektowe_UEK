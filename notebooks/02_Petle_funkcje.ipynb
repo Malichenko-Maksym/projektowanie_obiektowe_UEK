{
 "cells": [
  {
   "attachments": {},
   "cell_type": "markdown",
   "metadata": {},
   "source": [
    "# Pętle i funkcje w Pythonie\n",
    "\n",
    "Tym raziem skupimy się na pętlach (loops) oraz funkcjach.\\\n",
    "Zaczynajmy!"
   ]
  },
  {
   "attachments": {},
   "cell_type": "markdown",
   "metadata": {},
   "source": [
    "### Pętle\n",
    "Pętla for   "
   ]
  },
  {
   "cell_type": "code",
   "execution_count": 7,
   "metadata": {
    "ExecuteTime": {
     "end_time": "2020-10-21T10:13:40.006555Z",
     "start_time": "2020-10-21T10:13:40.004738Z"
    }
   },
   "outputs": [
    {
     "name": "stdout",
     "output_type": "stream",
     "text": [
      "range(0, 4)\n",
      "Pokaż wszyskie elementy w range(4): \n",
      "0\n",
      "1\n",
      "2\n",
      "3\n",
      "Pokaż wszyskie elementy w range(2, 12, 2): \n",
      "2\n",
      "4\n",
      "6\n",
      "8\n",
      "10\n",
      "Pokaż wszyskie elementy w range(0, -11, -3): \n",
      "0\n",
      "-3\n",
      "-6\n",
      "-9\n",
      "-12\n"
     ]
    }
   ],
   "source": [
    "# Zacznijmy od wywołania iteratora range\n",
    "print(range(4))\n",
    "# Niewiele nam to mówi\n",
    "\n",
    "# Jeśli chcemy zobaczyć wszyskie elementy musimy użyć pętli for\n",
    "print(\"Pokaż wszyskie elementy w range(4): \")\n",
    "for i in range(4):\n",
    "    print(i)\n",
    "# See two other examples:\n",
    "print(\"Pokaż wszyskie elementy w range(2, 12, 2): \")\n",
    "for i in range(2, 12, 2):\n",
    "    print(i)\n",
    "\n",
    "print(\"Pokaż wszyskie elementy w range(0, -11, -3): \")\n",
    "for i in range(0, -13, -3):\n",
    "    print(i)"
   ]
  },
  {
   "cell_type": "code",
   "execution_count": 13,
   "metadata": {},
   "outputs": [
    {
     "name": "stdout",
     "output_type": "stream",
     "text": [
      "czarny\n",
      "zielony\n",
      "czerwony\n",
      "['czarny', 'zielony', 'czerwony']\n"
     ]
    }
   ],
   "source": [
    "# Jeżeli chcemy sprawdzić elementy w liście\n",
    "kolory = [\"czarny\", \"zielony\", \"czerwony\"]\n",
    "for kolor in kolory:\n",
    "    print(kolor)"
   ]
  },
  {
   "cell_type": "code",
   "execution_count": 11,
   "metadata": {},
   "outputs": [
    {
     "name": "stdout",
     "output_type": "stream",
     "text": [
      "('name', 'Jan')\n",
      "('surname', 'Kowalski')\n",
      "('age', 22)\n",
      "\n",
      "Unzipped tuple: \n",
      "name Jan\n",
      "surname Kowalski\n",
      "age 22\n"
     ]
    }
   ],
   "source": [
    "student = {'name': 'Jan', 'surname': 'Kowalski', 'age': 22}\n",
    "for element in student.items():\n",
    "    print(element)\n",
    "print(\"\\nUnzipped tuple: \")\n",
    "for key, value in student.items():\n",
    "    print(key, value)\n",
    "\n",
    "# odwrotnie, zip() łączy elementy np listy w tuple"
   ]
  },
  {
   "attachments": {},
   "cell_type": "markdown",
   "metadata": {},
   "source": [
    "### Wyrażenia if, else oraz pętle while"
   ]
  },
  {
   "cell_type": "code",
   "execution_count": 17,
   "metadata": {},
   "outputs": [
    {
     "name": "stdout",
     "output_type": "stream",
     "text": [
      "Wartość pomiędzy 3 a 11, włącznie\n"
     ]
    }
   ],
   "source": [
    "x = 5\n",
    "if x < 3:\n",
    "    print(\"Wartość powyżej 3\")\n",
    "elif x > 11:\n",
    "    print(\"Wartość powyżej 11\")\n",
    "else:\n",
    "    print(\"Wartość pomiędzy 3 a 11, włącznie\")"
   ]
  },
  {
   "cell_type": "code",
   "execution_count": null,
   "metadata": {},
   "outputs": [],
   "source": [
    "#pętla while\n",
    "x = 5\n",
    "while(x < 11):\n",
    "    print(x)\n",
    "    #break\n",
    "\n",
    "while(x < 11):\n",
    "    print(x)\n",
    "    x +=1\n",
    "    "
   ]
  },
  {
   "attachments": {},
   "cell_type": "markdown",
   "metadata": {},
   "source": [
    "### Funkcje"
   ]
  },
  {
   "attachments": {},
   "cell_type": "markdown",
   "metadata": {},
   "source": [
    "Przykład prostej funkcji obliczającej silnię"
   ]
  },
  {
   "cell_type": "code",
   "execution_count": 38,
   "metadata": {},
   "outputs": [
    {
     "data": {
      "text/plain": [
       "720"
      ]
     },
     "execution_count": 38,
     "metadata": {},
     "output_type": "execute_result"
    }
   ],
   "source": [
    "## Definiujemy funkcję z jednym argumentem, n\n",
    "def silnia(n):\n",
    "    if n == 0:\n",
    "        return 1\n",
    "    else:\n",
    "        return n * silnia(n - 1)\n",
    "\n",
    "# Wywołujemy funkcję i podajemy wartość argumentu\n",
    "silnia(6)"
   ]
  },
  {
   "attachments": {},
   "cell_type": "markdown",
   "metadata": {},
   "source": [
    "Funkcja anonimowa lambda"
   ]
  },
  {
   "cell_type": "code",
   "execution_count": 35,
   "metadata": {},
   "outputs": [
    {
     "data": {
      "text/plain": [
       "720"
      ]
     },
     "execution_count": 35,
     "metadata": {},
     "output_type": "execute_result"
    }
   ],
   "source": [
    "## Ten sam przykład z wykorzystaniem funkcji anonimowej \"lambda\"\n",
    "f = lambda n: 1 if n == 0 else n * f(n - 1)\n",
    "\n",
    "f(6)\n",
    "\n"
   ]
  },
  {
   "attachments": {},
   "cell_type": "markdown",
   "metadata": {},
   "source": [
    "Arguementy funkcji mogą być specyfikowane dynamicznie. Można w tym celu korzystać z list (używając operatora *) lub ze słowników (operator **). Rozwiązanie to często używane jest w podejściu obiektowym."
   ]
  },
  {
   "cell_type": "code",
   "execution_count": 36,
   "metadata": {},
   "outputs": [
    {
     "name": "stdout",
     "output_type": "stream",
     "text": [
      "czarny\n",
      "zielony\n",
      "czerwony\n"
     ]
    }
   ],
   "source": [
    "def printArgs(*args):\n",
    "    for arg in args:\n",
    "        print(arg)\n",
    "\n",
    "printArgs(\"czarny\", \"zielony\", \"czerwony\")"
   ]
  },
  {
   "cell_type": "code",
   "execution_count": 37,
   "metadata": {},
   "outputs": [
    {
     "name": "stdout",
     "output_type": "stream",
     "text": [
      "wzrost 1.8\n",
      "age 21\n",
      "name Jan\n"
     ]
    }
   ],
   "source": [
    "def printKwargs(**kwargs):\n",
    "    for name, value in kwargs.items():\n",
    "        print(name, value)\n",
    "\n",
    "printKwargs(wzrost = 1.80, age = 21, name = \"Jan\")"
   ]
  },
  {
   "attachments": {},
   "cell_type": "markdown",
   "metadata": {},
   "source": [
    "### Obiekty!\n",
    "\n",
    "Na koniec bardzo szybkie wprowadzenie do obiektów"
   ]
  },
  {
   "cell_type": "code",
   "execution_count": 41,
   "metadata": {},
   "outputs": [
    {
     "name": "stdout",
     "output_type": "stream",
     "text": [
      "Alice\n",
      "Cześć, mam na imię Alice.\n"
     ]
    }
   ],
   "source": [
    "class Person:\n",
    "    # Konstruktor inicjalizujący atrybut imię\n",
    "    def __init__(self, name):\n",
    "        self.name = name\n",
    "\n",
    "    def greet(self):\n",
    "        return f\"Cześć, mam na imię {self.name}.\"\n",
    "\n",
    "# Tworzymy obiekt klasy Person\n",
    "person = Person(\"Alice\")\n",
    "\n",
    "# Zwracamy atrubut name\n",
    "print(person.name)\n",
    "\n",
    "# Wywołujemy metodę greet\n",
    "print(person.greet())"
   ]
  }
 ],
 "metadata": {
  "kernelspec": {
   "display_name": "Python 3",
   "language": "python",
   "name": "python3"
  },
  "language_info": {
   "codemirror_mode": {
    "name": "ipython",
    "version": 3
   },
   "file_extension": ".py",
   "mimetype": "text/x-python",
   "name": "python",
   "nbconvert_exporter": "python",
   "pygments_lexer": "ipython3",
   "version": "3.6.4"
  }
 },
 "nbformat": 4,
 "nbformat_minor": 2
}
