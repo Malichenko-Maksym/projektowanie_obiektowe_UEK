{
 "cells": [
  {
   "cell_type": "markdown",
   "metadata": {},
   "source": [
    "# Podstawy programowania w Pythonie i korzystanie z Jupyter Notebooks\n",
    "\n",
    "W ramach tego kursu korzystać będziemy przede wszystkim z Jupyter Notebooks, w szczególności rozwiązań dostępnych w chmurze, takich jak Kaggle czy Google Colab. Pythona można także zainstalować lokalnie i pracować z dowolnymi narzędziami typu Visual Studio Code czy pyCharm (również obsługują Jupyter Notebook)"
   ]
  },
  {
   "cell_type": "markdown",
   "metadata": {},
   "source": [
    "## Początki w Pythonie\n",
    "Funkcja print"
   ]
  },
  {
   "cell_type": "code",
   "execution_count": 1,
   "metadata": {
    "ExecuteTime": {
     "end_time": "2020-10-21T10:13:40.006555Z",
     "start_time": "2020-10-21T10:13:40.004738Z"
    }
   },
   "outputs": [
    {
     "name": "stdout",
     "output_type": "stream",
     "text": [
      "Witaj świecie!\n"
     ]
    }
   ],
   "source": [
    "print(\"Witaj świecie!\")"
   ]
  },
  {
   "cell_type": "markdown",
   "metadata": {},
   "source": [
    "Operacje arytmetyczne"
   ]
  },
  {
   "cell_type": "code",
   "execution_count": 2,
   "metadata": {},
   "outputs": [
    {
     "data": {
      "text/plain": [
       "4"
      ]
     },
     "execution_count": 2,
     "metadata": {},
     "output_type": "execute_result"
    }
   ],
   "source": [
    "2+2"
   ]
  },
  {
   "cell_type": "markdown",
   "metadata": {},
   "source": [
    "Definiowanie zmiennych i wcięcia"
   ]
  },
  {
   "cell_type": "code",
   "execution_count": 3,
   "metadata": {},
   "outputs": [
    {
     "ename": "IndentationError",
     "evalue": "unexpected indent (Temp/ipykernel_2572/2327220938.py, line 2)",
     "output_type": "error",
     "traceback": [
      "\u001b[1;36m  File \u001b[1;32m\"C:\\Users\\et\\AppData\\Local\\Temp/ipykernel_2572/2327220938.py\"\u001b[1;36m, line \u001b[1;32m2\u001b[0m\n\u001b[1;33m    b = 3\u001b[0m\n\u001b[1;37m    ^\u001b[0m\n\u001b[1;31mIndentationError\u001b[0m\u001b[1;31m:\u001b[0m unexpected indent\n"
     ]
    }
   ],
   "source": [
    "a = 2\n",
    "    b = 3"
   ]
  },
  {
   "cell_type": "code",
   "execution_count": 4,
   "metadata": {},
   "outputs": [
    {
     "name": "stdout",
     "output_type": "stream",
     "text": [
      "5\n"
     ]
    }
   ],
   "source": [
    "a = 2\n",
    "b = 3\n",
    "print(a + b)"
   ]
  },
  {
   "cell_type": "markdown",
   "metadata": {},
   "source": [
    "## Typy zmiennych\n",
    "W pythonie typ zmiennych przypisywany jest automatycznie, nie trzeba go definiować."
   ]
  },
  {
   "cell_type": "code",
   "execution_count": 1,
   "metadata": {},
   "outputs": [
    {
     "name": "stdout",
     "output_type": "stream",
     "text": [
      "Typ zmiennej c: <class 'float'> , typ zmiennej d:  <class 'str'> , typ zmiennej text:  <class 'str'>\n"
     ]
    }
   ],
   "source": [
    "c = 5.83 # zmienna typu float\n",
    "d = \"2.51\" # zmienna typu string\n",
    "text = \"Hej, jak się macie\" #zmienna typu string\n",
    "\n",
    "print(\"Typ zmiennej c:\", type(c),\n",
    "      \", typ zmiennej d: \", type(d),\n",
    "      \", typ zmiennej text: \", type(text))\n"
   ]
  },
  {
   "cell_type": "markdown",
   "metadata": {},
   "source": [
    "Łącznie zmiennych różnego typu"
   ]
  },
  {
   "cell_type": "code",
   "execution_count": 2,
   "metadata": {},
   "outputs": [
    {
     "name": "stdout",
     "output_type": "stream",
     "text": [
      "5.832.51\n",
      "8.34\n"
     ]
    }
   ],
   "source": [
    "# Łącznienie dwóch stringów\n",
    "print(str(c) + d)\n",
    "# Łącznie dwóch floatów\n",
    "print(c + float(d))"
   ]
  },
  {
   "cell_type": "code",
   "execution_count": 3,
   "metadata": {},
   "outputs": [
    {
     "ename": "ValueError",
     "evalue": "could not convert string to float: 'Hej, jak się macie'",
     "output_type": "error",
     "traceback": [
      "\u001b[1;31m---------------------------------------------------------------------------\u001b[0m",
      "\u001b[1;31mValueError\u001b[0m                                Traceback (most recent call last)",
      "\u001b[1;32m~\\AppData\\Local\\Temp/ipykernel_14276/3374070455.py\u001b[0m in \u001b[0;36m<module>\u001b[1;34m\u001b[0m\n\u001b[0;32m      1\u001b[0m \u001b[1;31m# Łącznienie string i float??\u001b[0m\u001b[1;33m\u001b[0m\u001b[1;33m\u001b[0m\u001b[0m\n\u001b[1;32m----> 2\u001b[1;33m \u001b[0mprint\u001b[0m\u001b[1;33m(\u001b[0m\u001b[0mc\u001b[0m \u001b[1;33m+\u001b[0m \u001b[0mfloat\u001b[0m\u001b[1;33m(\u001b[0m\u001b[0mtext\u001b[0m\u001b[1;33m)\u001b[0m\u001b[1;33m)\u001b[0m\u001b[1;33m\u001b[0m\u001b[1;33m\u001b[0m\u001b[0m\n\u001b[0m",
      "\u001b[1;31mValueError\u001b[0m: could not convert string to float: 'Hej, jak się macie'"
     ]
    }
   ],
   "source": [
    "# Łącznienie string i float??\n",
    "print(c + float(text))"
   ]
  },
  {
   "attachments": {},
   "cell_type": "markdown",
   "metadata": {},
   "source": [
    "## Struktury danych w Pythonie\n",
    "\n",
    "### Listy"
   ]
  },
  {
   "cell_type": "code",
   "execution_count": 1,
   "metadata": {},
   "outputs": [
    {
     "name": "stdout",
     "output_type": "stream",
     "text": [
      "[] []\n",
      "biały\n",
      "['biały', 'zielony', 'niebieski', 'czerwony']\n",
      "['zielony', 'niebieski']\n"
     ]
    }
   ],
   "source": [
    "# Tworzenie pustej listy\n",
    "emptyList = []\n",
    "# Lub alternatywnie\n",
    "emptyList2 = list()\n",
    "print(emptyList, emptyList2)\n",
    "kolory = [\"biały\", \"zielony\", \"niebieski\", \"czerwony\"]\n",
    "# Indeksowanie elementów w listach\n",
    "print(kolory[0])\n",
    "print(kolory[:])\n",
    "# Print elements [1,3)\n",
    "print(kolory[1:3])"
   ]
  },
  {
   "attachments": {},
   "cell_type": "markdown",
   "metadata": {},
   "source": [
    "Operacje na listach"
   ]
  },
  {
   "cell_type": "code",
   "execution_count": null,
   "metadata": {},
   "outputs": [],
   "source": [
    "# Dodawanie dodatkowych elementów do listy\n",
    "kolory[len(kolory):] =[\"czarny\"]\n",
    "print(kolory)\n",
    "# Lub alternatywnie\n",
    "kolory.append(\"różowy\")\n",
    "print(kolory)\n",
    "# Dodawnie elementu wewnątrz listy\n",
    "kolory.insert(2, \"różowy\")\n",
    "print(kolory)"
   ]
  },
  {
   "attachments": {},
   "cell_type": "markdown",
   "metadata": {},
   "source": [
    "Usuwanie elementów i odwracanie list"
   ]
  },
  {
   "cell_type": "code",
   "execution_count": 2,
   "metadata": {},
   "outputs": [
    {
     "name": "stdout",
     "output_type": "stream",
     "text": [
      "[4, 5, 6]\n",
      "[4, 6]\n",
      "[4, 6]\n"
     ]
    }
   ],
   "source": [
    "# Usuwanie elementów w liście\n",
    "numbers = [4, 5, 6]\n",
    "print(numbers)\n",
    "# Można usunąć element równy podanej wartości\n",
    "numbers.remove(5)\n",
    "print(numbers)\n",
    "\n",
    "numbers = [4, 5, 6]\n",
    "# Lub za pomocą indeksu\n",
    "numbers.pop(1)\n",
    "print(numbers)"
   ]
  },
  {
   "cell_type": "code",
   "execution_count": 3,
   "metadata": {},
   "outputs": [
    {
     "name": "stdout",
     "output_type": "stream",
     "text": [
      "[6, 5, 4]\n"
     ]
    }
   ],
   "source": [
    "# Odwracanie listy\n",
    "numbers = [4, 5, 6]\n",
    "numbers.reverse()\n",
    "print(numbers)"
   ]
  },
  {
   "attachments": {},
   "cell_type": "markdown",
   "metadata": {},
   "source": [
    "Ogólnie listy są bardzo eleastyczne i pozwalają na wstawianie elementów różnych typów (np tekstowych i numerycznych), tworzenie listy list (zagnieżdżanie) i wielu innych kombinacji."
   ]
  },
  {
   "attachments": {},
   "cell_type": "markdown",
   "metadata": {},
   "source": [
    "### Słowniki (dictionaries)\n",
    "\n",
    "Tworzenie słowników"
   ]
  },
  {
   "cell_type": "code",
   "execution_count": 10,
   "metadata": {},
   "outputs": [
    {
     "name": "stdout",
     "output_type": "stream",
     "text": [
      "{} {}\n",
      "{'imię': 'Jan', 'nazwisko': 'Kowalski', 'wiek': 21}\n",
      "{'imię': 'Jan', 'nazwisko': 'Kowalski', 'wiek': 21, 'wzrost': 180}\n",
      "{'imię': 'Jan', 'nazwisko': 'Kowalski', 'wzrost': 180}\n",
      "{'imię': 'Jan', 'nazwisko': 'Kowalski', 'wzrost': 180, 'wiek': 21}\n"
     ]
    }
   ],
   "source": [
    "pustySlownik = {}\n",
    "pustySlownik2 = dict()\n",
    "print(pustySlownik, pustySlownik2)\n",
    "\n",
    "student = {'imię' : 'Jan', 'nazwisko' : 'Kowalski', 'wiek': 21}\n",
    "print(student)\n",
    "\n",
    "#dodawnie elementu poprzez definiowanie wartości dla klucza (klucz może być także liczbą)\n",
    "student['wzrost'] = 180\n",
    "print(student)\n",
    "\n",
    "#usuwanie elementu\n",
    "del student['wiek']\n",
    "print(student)\n",
    "\n",
    "#za pomocą funkcji update można łączyć lub aktualizować słowniki\n",
    "wiekStudenta = {'wiek' : 21}\n",
    "student.update(wiekStudenta)\n",
    "print(student)"
   ]
  },
  {
   "attachments": {},
   "cell_type": "markdown",
   "metadata": {},
   "source": [
    "### Pozostałe struktury danych\n",
    "\n",
    "W pythonie możecie natknąć się także na **zbiory (sets)** oraz **tuple**.\n",
    "\n",
    "**Zbiory** definiuje się za pomocą nawiasów klamrowych (tak jak słowniki), jednak nie posiadają one zdefiniowanych kluczy. Wszystkie wartości (elementy) w zbriorach są unikatowe (w słownikach unikatowe są klucze).\n",
    "\n",
    "**Tuple** definiuje sie za pomocą zwykłych nawiasów. Sa bardzo podobne do list (zachowując wszystkie ich funkcjonalności, o których mówiliśmy), z tą różnicą \n",
    ", że nie są modyfikowalne (są statyczne). Po zdefiniowaniu tupli nie możliwości ich edycji.\n",
    "\n"
   ]
  }
 ],
 "metadata": {
  "kernelspec": {
   "display_name": "Python 3",
   "language": "python",
   "name": "python3"
  },
  "language_info": {
   "codemirror_mode": {
    "name": "ipython",
    "version": 3
   },
   "file_extension": ".py",
   "mimetype": "text/x-python",
   "name": "python",
   "nbconvert_exporter": "python",
   "pygments_lexer": "ipython3",
   "version": "3.6.4"
  }
 },
 "nbformat": 4,
 "nbformat_minor": 2
}
