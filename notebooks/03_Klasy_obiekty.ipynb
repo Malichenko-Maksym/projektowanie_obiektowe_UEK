{
 "cells": [
  {
   "attachments": {},
   "cell_type": "markdown",
   "metadata": {},
   "source": [
    "# Klasy i obiekty\n",
    "\n",
    "W tej części zajęć omawiać będziemy koncepcje związane z klasami i obiektami\n"
   ]
  },
  {
   "attachments": {},
   "cell_type": "markdown",
   "metadata": {},
   "source": [
    "### Podstawy\n",
    "\n",
    "Na początek szybkie wprowadzenie do obiektów"
   ]
  },
  {
   "cell_type": "code",
   "execution_count": 2,
   "metadata": {},
   "outputs": [
    {
     "name": "stdout",
     "output_type": "stream",
     "text": [
      "Alicja\n",
      "Cześć, mam na imię Alicja.\n"
     ]
    }
   ],
   "source": [
    "class Person:\n",
    "    # Constructor initializing the name atribute\n",
    "    def __init__(self, name):\n",
    "        self.name = name\n",
    "\n",
    "    def greet(self):\n",
    "        return f\"Cześć, mam na imię {self.name}.\"\n",
    "\n",
    "# Create a Person object\n",
    "person = Person(\"Alicja\")\n",
    "\n",
    "# Print the name atribute\n",
    "print(person.name)\n",
    "\n",
    "# Call the greet method\n",
    "print(person.greet())"
   ]
  },
  {
   "cell_type": "code",
   "execution_count": 3,
   "metadata": {},
   "outputs": [],
   "source": [
    "class Student:\n",
    "    school_name = \"MojaSzkoła\"  # Class attribute shared by all instances\n",
    "\n",
    "    def __init__(self, first_name, last_name, student_id):\n",
    "        self.first_name = first_name\n",
    "        self.last_name = last_name\n",
    "        self.student_id = student_id\n",
    "        self.grades = []\n",
    "\n",
    "    def add_grade(self, grade):\n",
    "        self.grades.append(grade)\n",
    "\n",
    "    def calculate_average_grade(self):\n",
    "        if len(self.grades) == 0:\n",
    "            return 0\n",
    "        average = sum(self.grades) / len(self.grades)\n",
    "        return average"
   ]
  },
  {
   "cell_type": "code",
   "execution_count": 4,
   "metadata": {},
   "outputs": [],
   "source": [
    "# Create a Student object\n",
    "student1 = Student(\"Jan\", \"Kowalski\", \"12345\")\n",
    "\n",
    "# Access the class attribute school_name\n",
    "school = student1.school_name"
   ]
  },
  {
   "cell_type": "code",
   "execution_count": 5,
   "metadata": {},
   "outputs": [],
   "source": [
    "# Add grades\n",
    "student1.add_grade(4.5)\n",
    "student1.add_grade(5.0)\n",
    "student1.add_grade(3.0)\n",
    "\n",
    "# Calculate the average grade\n",
    "average = student1.calculate_average_grade()"
   ]
  },
  {
   "cell_type": "code",
   "execution_count": 6,
   "metadata": {},
   "outputs": [
    {
     "name": "stdout",
     "output_type": "stream",
     "text": [
      "Student: Jan Kowalski\n",
      "Numer indeksu: 12345\n",
      "Moja szkoła: MojaSzkoła\n",
      "Średnia ocen: 4.166666666666667\n"
     ]
    }
   ],
   "source": [
    "# Display information about the student, including school name and their average grade\n",
    "print(f\"Student: {student1.first_name} {student1.last_name}\")\n",
    "print(f\"Numer indeksu: {student1.student_id}\")\n",
    "print(f\"Moja szkoła: {school}\")\n",
    "print(f\"Średnia ocen: {average}\")"
   ]
  },
  {
   "attachments": {},
   "cell_type": "markdown",
   "metadata": {},
   "source": [
    "### Zadanie\n",
    "\n",
    "Klasa Kursu\n",
    "\n",
    "Napisz klasę Course, która będzie reprezentować kurs. Kurs powinien mieć następujące właściwości:\n",
    "\n",
    "- course_name - nazwa kursu.\n",
    "- students - lista uczestników kursu.\n",
    "- Klasa Course powinna mieć metody:\n",
    "\n",
    "- add_student(student_name) - dodaje studenta do listy uczestników kursu.\n",
    "- list_students() - zwraca listę uczestników kursu.\n",
    "\n",
    "Następnie stwórz kilka instancji klasy Course i przetestuj dodawanie i wylistowywanie uczestników w tych kursach."
   ]
  },
  {
   "cell_type": "code",
   "execution_count": null,
   "metadata": {},
   "outputs": [],
   "source": []
  },
  {
   "attachments": {},
   "cell_type": "markdown",
   "metadata": {},
   "source": [
    "### Dziedziczenie\n",
    "\n",
    "Omówmy kolejny ważny koncept związany z programowaniem obiektowym: dziedziczenie. Dziedziczenie pozwala na tworzenie nowych klas na podstawie istniejących klas, co pozwala na ponowne użycie kodu i hierarchię klas.\n",
    "\n",
    "Załóżmy, że mamy dwie klasy: Animal (Zwierzę) i Bird (Ptak), a Bird dziedziczy po Animal. "
   ]
  },
  {
   "cell_type": "code",
   "execution_count": 8,
   "metadata": {},
   "outputs": [
    {
     "name": "stdout",
     "output_type": "stream",
     "text": [
      "None\n",
      "Wróbel ćwierka ładną piosenkę.\n"
     ]
    }
   ],
   "source": [
    "class Animal:\n",
    "    def __init__(self, name):\n",
    "        self.name = name\n",
    "\n",
    "    def speak(self):\n",
    "        pass  # This method will be overridden in inheriting classes\n",
    "\n",
    "class Bird(Animal):\n",
    "    def speak(self):\n",
    "        return f\"{self.name} ćwierka ładną piosenkę.\"\n",
    "\n",
    "# Create objects\n",
    "fish = Animal(\"Szczupak\")\n",
    "sparrow = Bird(\"Wróbel\")\n",
    "\n",
    "# Call the speak method\n",
    "print(fish.speak())     # Calls the speak method from the Animal class\n",
    "print(sparrow.speak())  # Calls the overridden speak method from the Bird class"
   ]
  },
  {
   "attachments": {},
   "cell_type": "markdown",
   "metadata": {},
   "source": [
    "### Hierarchia klas"
   ]
  },
  {
   "attachments": {},
   "cell_type": "markdown",
   "metadata": {},
   "source": [
    "Kolejny przykład pokazuje, jak dziedziczenie pozwala na tworzenie hierarchii klas, w których klasy pochodne rozszerzają i dostosowują zachowanie klas bazowych.\n",
    "\n",
    "Tworzymy hierarchię klas reprezentujących pojazdy. Klasa Vehicle jest klasą bazową (superklasą) z ogólnymi metodami start_engine i stop_engine. Klasy Car i Motorcycle dziedziczą po Vehicle i nadpisują te metody, dostosowując je do rodzaju pojazdu. Klasy ElectricCar dziedziczą po Car i również nadpisują metody, uwzględniając, że to pojazd elektryczny.\n",
    "\n",
    "Najważniejsze cechy superklasy, o których należy pamiętać, to:\n",
    "\n",
    "Dziedziczenie: Superklasa dostarcza cechy (atrybuty i metody) i pozwala na ich dziedziczenie przez klasy pochodne. To oznacza, że klasy pochodne otrzymują te cechy, ale mogą również je modyfikować lub rozszerzać.\n",
    "\n",
    "Abstrakcyjność: Superklasy mogą być abstrakcyjne, co oznacza, że nie tworzy się instancji tych klas, ale służą one jako wzorzec dla klas pochodnych.\n",
    "\n",
    "Uogólnienie: Superklasy są używane do uogólniania wspólnych cech dla różnych klas pochodnych. Na przykład, w hierarchii zwierząt, superklasa \"Zwierzę\" może zawierać wspólne metody lub atrybuty, które są dziedziczone przez różne rodzaje zwierząt."
   ]
  },
  {
   "cell_type": "code",
   "execution_count": 3,
   "metadata": {},
   "outputs": [],
   "source": [
    "class Vehicle:\n",
    "    def __init__(self, make, model):\n",
    "        self.make = make\n",
    "        self.model = model\n",
    "\n",
    "    def start_engine(self):\n",
    "        pass\n",
    "\n",
    "    def stop_engine(self):\n",
    "        pass\n",
    "\n",
    "class Car(Vehicle):\n",
    "    def start_engine(self):\n",
    "        return f\"Silnik {self.make} {self.model} został uruchomiony.\"\n",
    "\n",
    "    def stop_engine(self):\n",
    "        return f\"Silnik {self.make} {self.model} został wyłączony.\"\n",
    "\n",
    "class Motorcycle(Vehicle):\n",
    "    def start_engine(self):\n",
    "        return f\"Silnik {self.make} {self.model} zaczyna warczeć.\"\n",
    "\n",
    "    def stop_engine(self):\n",
    "        return f\"Silnik {self.make} {self.model} jest cichy.\"\n",
    "\n",
    "class ElectricCar(Car):\n",
    "    def start_engine(self):\n",
    "        return f\"Silnik elektryczny {self.make} {self.model} został włączony.\"\n",
    "\n",
    "    def stop_engine(self):\n",
    "        return f\"Silnik elektryczny {self.make} {self.model} został wyłączony.\"\n",
    "\n"
   ]
  },
  {
   "cell_type": "code",
   "execution_count": 5,
   "metadata": {},
   "outputs": [
    {
     "name": "stdout",
     "output_type": "stream",
     "text": [
      "Silnik Toyota Yaris został uruchomiony.\n",
      "Silnik Toyota Yaris został wyłączony.\n",
      "Silnik Harley-Davidson Sportster zaczyna warczeć.\n",
      "Silnik Harley-Davidson Sportster jest cichy.\n",
      "Silnik elektryczny Tesla Model 3 został włączony.\n",
      "Silnik elektryczny Tesla Model 3 został wyłączony.\n"
     ]
    }
   ],
   "source": [
    "# Create objects\n",
    "car = Car(\"Toyota\", \"Yaris\")\n",
    "motorcycle = Motorcycle(\"Harley-Davidson\", \"Sportster\")\n",
    "electric_car = ElectricCar(\"Tesla\", \"Model 3\")\n",
    "\n",
    "# Print the results of starting and stopping the engine for different vehicles\n",
    "print(car.start_engine())\n",
    "print(car.stop_engine())\n",
    "\n",
    "print(motorcycle.start_engine())\n",
    "print(motorcycle.stop_engine())\n",
    "\n",
    "print(electric_car.start_engine())\n",
    "print(electric_car.stop_engine())"
   ]
  },
  {
   "cell_type": "code",
   "execution_count": null,
   "metadata": {},
   "outputs": [],
   "source": []
  },
  {
   "attachments": {},
   "cell_type": "markdown",
   "metadata": {},
   "source": [
    "### Problemy i trudności związane z dziedziczeniem\n",
    "\n",
    "#### Nadmierny poziom zagnieżdżenia \n",
    "\n",
    "Zbyt głęboka hierarchia dziedziczenia może prowadzić do skomplikowanego i trudnego do zrozumienia kodu. Nadmierna zagnieżdżona hierarchia może być trudna do konserwacji i debugowania."
   ]
  },
  {
   "cell_type": "code",
   "execution_count": null,
   "metadata": {},
   "outputs": [],
   "source": [
    "# Nadmiernie zagnieżdżona hierarchia dziedziczenia prowadzi do bardziej skomplikowanego kodu.\n",
    "\n",
    "class Animal:\n",
    "    def speak(self):\n",
    "        pass\n",
    "\n",
    "class Bird(Animal):\n",
    "    def fly(self):\n",
    "        pass\n",
    "\n",
    "class Parrot(Bird):\n",
    "    def mimic_voice(self):\n",
    "        pass"
   ]
  },
  {
   "attachments": {},
   "cell_type": "markdown",
   "metadata": {},
   "source": [
    "#### Naruszenie zasady Liskov \n",
    "\n",
    "Dziedziczenie może prowadzić do naruszenia zasady Liskov, która mówi, że podklasy powinny być w pełni zastępowalne przez swoje nadklasy. Jeśli to nie jest zachowane, może to prowadzić do nieprzewidywalnych zachowań."
   ]
  },
  {
   "cell_type": "code",
   "execution_count": 6,
   "metadata": {},
   "outputs": [],
   "source": [
    "# Podklasa Square nie jest w pełni zastępowalna przez nadklasę Rectangle\n",
    "\n",
    "class Rectangle:\n",
    "    def set_width(self, width):\n",
    "        pass\n",
    "\n",
    "    def set_height(self, height):\n",
    "        pass\n",
    "\n",
    "class Square(Rectangle):\n",
    "    def set_width(self, side_length):\n",
    "        self.side_length = side_length\n",
    "        self.height = side_length"
   ]
  },
  {
   "attachments": {},
   "cell_type": "markdown",
   "metadata": {},
   "source": [
    "#### Problem zależności między klasami \n",
    "\n",
    "Dziedziczenie tworzy silne zależności między nadklasą a jej podklasami. To oznacza, że zmiany w nadklasie mogą wpłynąć na wiele podklas, co utrudnia modyfikacje i konserwację kodu."
   ]
  },
  {
   "cell_type": "code",
   "execution_count": 7,
   "metadata": {},
   "outputs": [],
   "source": [
    "# Zmiana w nadklasie Vehicle może wpłynąć na wiele podklas, co może być problematyczne w zarządzaniu kodem\n",
    "\n",
    "class Vehicle:\n",
    "    def start_engine(self):\n",
    "        # ... ???\n",
    "        pass\n",
    "\n",
    "class Car(Vehicle):\n",
    "    def start_engine(self):\n",
    "        # ...\n",
    "        pass\n",
    "\n",
    "class Motorcycle(Vehicle):\n",
    "    def start_engine(self):\n",
    "        # ...\n",
    "        pass"
   ]
  },
  {
   "attachments": {},
   "cell_type": "markdown",
   "metadata": {},
   "source": [
    "#### Płytka hierarchia \n",
    "\n",
    "Zbyt płytka hierarchia dziedziczenia może prowadzić do duplikacji kodu w wielu miejscach, co jest nieefektywne i trudne do zarządzania."
   ]
  },
  {
   "cell_type": "code",
   "execution_count": 8,
   "metadata": {},
   "outputs": [],
   "source": [
    "# Taka hierarchia klas tworzy wiele powtarzających się funkcji walk, co prowadzi do duplikacji kodu.\n",
    "\n",
    "class Cat:\n",
    "    def walk(self):\n",
    "        pass\n",
    "\n",
    "class Dog:\n",
    "    def walk(self):\n",
    "        pass\n",
    "\n",
    "class Horse:\n",
    "    def walk(self):\n",
    "        pass"
   ]
  },
  {
   "attachments": {},
   "cell_type": "markdown",
   "metadata": {},
   "source": [
    "### Zadanie\n",
    "\n",
    "Tworzenie hierarchii klas\n",
    "\n",
    "Napisz kod, który będzie zawierał hierarchię klas reprezentujących różne rodzaje zwierząt. Wykorzystaj dziedziczenie, aby stworzyć hierarchię, która zawiera wspólne cechy zwierząt oraz specyficzne cechy dla każdego rodzaju zwierząt.\n",
    "\n",
    "Rozpocznij od stworzenia klasy bazowej Animal. Klasa ta powinna mieć atrybut name (imię zwierzęcia) i metodę speak, która zwraca dźwięk wydawany przez to zwierzę.\n",
    "\n",
    "Następnie utwórz co najmniej dwie podklasy, które dziedziczą po klasie Animal. Przykładowe rodzaje zwierząt to pies, kot, ptak itp. Każda z tych klas powinna nadpisywać metodę speak, dostosowując ją do własnego rodzaju zwierzęcia.\n",
    "\n",
    "Stwórz obiekty reprezentujące różne rodzaje zwierząt i wywołaj metodę speak dla każdego z nich, aby sprawdzić, czy dziedziczenie działa poprawnie."
   ]
  },
  {
   "cell_type": "code",
   "execution_count": null,
   "metadata": {},
   "outputs": [],
   "source": []
  },
  {
   "cell_type": "markdown",
   "metadata": {},
   "source": [
    "### Dziedziczenie wielokrotne\n",
    "\n",
    "Dziedziczenie wielokrotne pozwala klasie dziedziczyć cechy i metody z więcej niż jednej superklasy, dzięki czemu możemy stworzyć bardziej złożone hierarchie klas.\n",
    "\n",
    "W poniższym przykładzie mamy trzy klasy: Person, Employee i Manager. Klasa Manager dziedziczy zarówno od klasy Person, jak i Employee, co odzwierciedla sytuację, w której menedżer jest jednocześnie osobą i pracownikiem. Menedżer może korzystać z metod dziedziczonych zarówno od klasy Person, takie jak introduce, jak i od klasy Employee, takie jak work i manage."
   ]
  },
  {
   "cell_type": "code",
   "execution_count": 2,
   "metadata": {},
   "outputs": [
    {
     "name": "stdout",
     "output_type": "stream",
     "text": [
      "Mam na imię Jan.\n",
      "Pracuję.\n",
      "Zarządzam zespołem.\n"
     ]
    }
   ],
   "source": [
    "class Person:\n",
    "    def __init__(self, name):\n",
    "        self.name = name\n",
    "\n",
    "    def introduce(self):\n",
    "        return f\"Mam na imię {self.name}.\"\n",
    "\n",
    "class Employee:\n",
    "    def __init__(self, employee_id):\n",
    "        self.employee_id = employee_id\n",
    "\n",
    "    def work(self):\n",
    "        return \"Pracuję.\"\n",
    "\n",
    "class Manager(Person, Employee):\n",
    "    def __init__(self, name, employee_id):\n",
    "        # Wywołaj konstruktory klas bazowych\n",
    "        Person.__init__(self, name)\n",
    "        Employee.__init__(self, employee_id)\n",
    "\n",
    "    def manage(self):\n",
    "        return \"Zarządzam zespołem.\"\n",
    "\n",
    "# Create an obejct of the Manager class\n",
    "manager = Manager(\"Jan\", \"M12345\")\n",
    "\n",
    "# Call methods inherited form different superclasses\n",
    "print(manager.introduce())  \n",
    "print(manager.work())       \n",
    "print(manager.manage())    "
   ]
  },
  {
   "cell_type": "markdown",
   "metadata": {},
   "source": [
    "### Dziedziczenie dynamiczne\n",
    "\n",
    "Dziedziczenie dynamiczne (dynamic inheritance) odnosi się do możliwości zmiany hierarchii dziedziczenia lub dodawania nowych cech (atrybutów i metod) do klasy w trakcie działania programu (at runtime). "
   ]
  },
  {
   "cell_type": "code",
   "execution_count": 16,
   "metadata": {},
   "outputs": [
    {
     "name": "stdout",
     "output_type": "stream",
     "text": [
      "Woof!\n",
      "Sitting\n",
      "True\n"
     ]
    }
   ],
   "source": [
    "\n",
    "class Animal:\n",
    "    def speak(self):\n",
    "        return \"Some sound\"\n",
    "\n",
    "# Klasa Dog dziedziczy od Animal\n",
    "class Dog(Animal):\n",
    "    def speak(self):\n",
    "        return \"Woof!\"\n",
    "\n",
    "# Create an object of the class Dog\n",
    "dog = Dog()\n",
    "\n",
    "# Call the speak method\n",
    "print(dog.speak())  # Woof!\n",
    "\n",
    "# Let's create a new method\n",
    "def sit(self):\n",
    "    return \"Sitting\"\n",
    "\n",
    "# Dynamically add new method to our Dog class\n",
    "Dog.sit = sit\n",
    "\n",
    "# Call the new method\n",
    "print(dog.sit())  # Sitting\n",
    "\n",
    "\n",
    "# Create a new class\n",
    "class Pet:\n",
    "    def is_pet(self):\n",
    "        return True\n",
    "\n",
    "# Dog class will now inherit from both Animal and Pet\n",
    "Dog.__bases__ = (Pet, Animal)\n",
    "\n",
    "# Create a new object of the class Dog (is this required?)\n",
    "dog = Dog()\n",
    "\n",
    "# Call the is_pet method\n",
    "print(dog.is_pet())  # True\n",
    "\n",
    "#print(dog.sit())  # Sitting?\n",
    "\n",
    "# Jak w Javie?"
   ]
  }
 ],
 "metadata": {
  "kernelspec": {
   "display_name": "Python 3",
   "language": "python",
   "name": "python3"
  },
  "language_info": {
   "codemirror_mode": {
    "name": "ipython",
    "version": 3
   },
   "file_extension": ".py",
   "mimetype": "text/x-python",
   "name": "python",
   "nbconvert_exporter": "python",
   "pygments_lexer": "ipython3",
   "version": "3.9.13"
  }
 },
 "nbformat": 4,
 "nbformat_minor": 2
}
