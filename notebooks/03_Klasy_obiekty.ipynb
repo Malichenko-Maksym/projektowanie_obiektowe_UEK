{
 "cells": [
  {
   "attachments": {},
   "cell_type": "markdown",
   "metadata": {},
   "source": [
    "# Klasy i obiekty\n",
    "\n",
    "W tej części zajęć omawiać będziemy koncepcje związane z klasami i obiektami\n"
   ]
  },
  {
   "attachments": {},
   "cell_type": "markdown",
   "metadata": {},
   "source": [
    "### Podstawy\n",
    "\n",
    "Na początek szybkie wprowadzenie do obiektów"
   ]
  },
  {
   "cell_type": "code",
   "execution_count": 2,
   "metadata": {},
   "outputs": [
    {
     "name": "stdout",
     "output_type": "stream",
     "text": [
      "Alicja\n",
      "Cześć, mam na imię Alicja.\n"
     ]
    }
   ],
   "source": [
    "class Person:\n",
    "    # Constructor initializing the name atribute\n",
    "    def __init__(self, name):\n",
    "        self.name = name\n",
    "\n",
    "    def greet(self):\n",
    "        return f\"Cześć, mam na imię {self.name}.\"\n",
    "\n",
    "# Create a Person object\n",
    "person = Person(\"Alicja\")\n",
    "\n",
    "# Print the name atribute\n",
    "print(person.name)\n",
    "\n",
    "# Call the greet method\n",
    "print(person.greet())"
   ]
  },
  {
   "cell_type": "code",
   "execution_count": 3,
   "metadata": {},
   "outputs": [],
   "source": [
    "class Student:\n",
    "    school_name = \"MojaSzkoła\"  # Class attribute shared by all instances\n",
    "\n",
    "    def __init__(self, first_name, last_name, student_id):\n",
    "        self.first_name = first_name\n",
    "        self.last_name = last_name\n",
    "        self.student_id = student_id\n",
    "        self.grades = []\n",
    "\n",
    "    def add_grade(self, grade):\n",
    "        self.grades.append(grade)\n",
    "\n",
    "    def calculate_average_grade(self):\n",
    "        if len(self.grades) == 0:\n",
    "            return 0\n",
    "        average = sum(self.grades) / len(self.grades)\n",
    "        return average"
   ]
  },
  {
   "cell_type": "code",
   "execution_count": 4,
   "metadata": {},
   "outputs": [],
   "source": [
    "# Create a Student object\n",
    "student1 = Student(\"Jan\", \"Kowalski\", \"12345\")\n",
    "\n",
    "# Access the class attribute school_name\n",
    "school = student1.school_name"
   ]
  },
  {
   "cell_type": "code",
   "execution_count": 5,
   "metadata": {},
   "outputs": [],
   "source": [
    "# Add grades\n",
    "student1.add_grade(4.5)\n",
    "student1.add_grade(5.0)\n",
    "student1.add_grade(3.0)\n",
    "\n",
    "# Calculate the average grade\n",
    "average = student1.calculate_average_grade()"
   ]
  },
  {
   "cell_type": "code",
   "execution_count": 6,
   "metadata": {},
   "outputs": [
    {
     "name": "stdout",
     "output_type": "stream",
     "text": [
      "Student: Jan Kowalski\n",
      "Numer indeksu: 12345\n",
      "Moja szkoła: MojaSzkoła\n",
      "Średnia ocen: 4.166666666666667\n"
     ]
    }
   ],
   "source": [
    "# Display information about the student, including school name and their average grade\n",
    "print(f\"Student: {student1.first_name} {student1.last_name}\")\n",
    "print(f\"Numer indeksu: {student1.student_id}\")\n",
    "print(f\"Moja szkoła: {school}\")\n",
    "print(f\"Średnia ocen: {average}\")"
   ]
  },
  {
   "attachments": {},
   "cell_type": "markdown",
   "metadata": {},
   "source": [
    "### Zadanie\n",
    "\n",
    "Klasa Kursu\n",
    "\n",
    "Napisz klasę Course, która będzie reprezentować kurs. Kurs powinien mieć następujące właściwości:\n",
    "\n",
    "- course_name - nazwa kursu.\n",
    "- students - lista uczestników kursu.\n",
    "- Klasa Course powinna mieć metody:\n",
    "\n",
    "- add_student(student_name) - dodaje studenta do listy uczestników kursu.\n",
    "- list_students() - zwraca listę uczestników kursu.\n",
    "\n",
    "Następnie stwórz kilka instancji klasy Course i przetestuj dodawanie i wylistowywanie uczestników w tych kursach."
   ]
  },
  {
   "cell_type": "code",
   "execution_count": null,
   "metadata": {},
   "outputs": [],
   "source": []
  },
  {
   "attachments": {},
   "cell_type": "markdown",
   "metadata": {},
   "source": [
    "### Dziedziczenie\n",
    "\n",
    "Omówmy kolejny ważny koncept związany z programowaniem obiektowym: dziedziczenie. Dziedziczenie pozwala na tworzenie nowych klas na podstawie istniejących klas, co pozwala na ponowne użycie kodu i hierarchię klas.\n",
    "\n",
    "Załóżmy, że mamy dwie klasy: Animal (Zwierzę) i Bird (Ptak), a Bird dziedziczy po Animal. "
   ]
  },
  {
   "cell_type": "code",
   "execution_count": 8,
   "metadata": {},
   "outputs": [
    {
     "name": "stdout",
     "output_type": "stream",
     "text": [
      "None\n",
      "Wróbel ćwierka ładną piosenkę.\n"
     ]
    }
   ],
   "source": [
    "class Animal:\n",
    "    def __init__(self, name):\n",
    "        self.name = name\n",
    "\n",
    "    def speak(self):\n",
    "        pass  # This method will be overridden in inheriting classes\n",
    "\n",
    "class Bird(Animal):\n",
    "    def speak(self):\n",
    "        return f\"{self.name} ćwierka ładną piosenkę.\"\n",
    "\n",
    "# Create objects\n",
    "fish = Animal(\"Szczupak\")\n",
    "sparrow = Bird(\"Wróbel\")\n",
    "\n",
    "# Call the speak method\n",
    "print(fish.speak())     # Calls the speak method from the Animal class\n",
    "print(sparrow.speak())  # Calls the overridden speak method from the Bird class"
   ]
  },
  {
   "attachments": {},
   "cell_type": "markdown",
   "metadata": {},
   "source": [
    "### Hierarchia klas"
   ]
  },
  {
   "attachments": {},
   "cell_type": "markdown",
   "metadata": {},
   "source": [
    "Kolejny przykład pokazuje, jak dziedziczenie pozwala na tworzenie hierarchii klas, w których klasy pochodne rozszerzają i dostosowują zachowanie klas bazowych.\n",
    "\n",
    "Tworzymy hierarchię klas reprezentujących pojazdy. Klasa Vehicle jest klasą bazową z ogólnymi metodami start_engine i stop_engine. Klasy Car i Motorcycle dziedziczą po Vehicle i nadpisują te metody, dostosowując je do rodzaju pojazdu. Klasy ElectricCar dziedziczą po Car i również nadpisują metody, uwzględniając, że to pojazd elektryczny."
   ]
  },
  {
   "cell_type": "code",
   "execution_count": 3,
   "metadata": {},
   "outputs": [],
   "source": [
    "class Vehicle:\n",
    "    def __init__(self, make, model):\n",
    "        self.make = make\n",
    "        self.model = model\n",
    "\n",
    "    def start_engine(self):\n",
    "        pass\n",
    "\n",
    "    def stop_engine(self):\n",
    "        pass\n",
    "\n",
    "class Car(Vehicle):\n",
    "    def start_engine(self):\n",
    "        return f\"Silnik {self.make} {self.model} został uruchomiony.\"\n",
    "\n",
    "    def stop_engine(self):\n",
    "        return f\"Silnik {self.make} {self.model} został wyłączony.\"\n",
    "\n",
    "class Motorcycle(Vehicle):\n",
    "    def start_engine(self):\n",
    "        return f\"Silnik {self.make} {self.model} zaczyna warczeć.\"\n",
    "\n",
    "    def stop_engine(self):\n",
    "        return f\"Silnik {self.make} {self.model} jest cichy.\"\n",
    "\n",
    "class ElectricCar(Car):\n",
    "    def start_engine(self):\n",
    "        return f\"Silnik elektryczny {self.make} {self.model} został włączony.\"\n",
    "\n",
    "    def stop_engine(self):\n",
    "        return f\"Silnik elektryczny {self.make} {self.model} został wyłączony.\"\n",
    "\n"
   ]
  },
  {
   "cell_type": "code",
   "execution_count": 5,
   "metadata": {},
   "outputs": [
    {
     "name": "stdout",
     "output_type": "stream",
     "text": [
      "Silnik Toyota Yaris został uruchomiony.\n",
      "Silnik Toyota Yaris został wyłączony.\n",
      "Silnik Harley-Davidson Sportster zaczyna warczeć.\n",
      "Silnik Harley-Davidson Sportster jest cichy.\n",
      "Silnik elektryczny Tesla Model 3 został włączony.\n",
      "Silnik elektryczny Tesla Model 3 został wyłączony.\n"
     ]
    }
   ],
   "source": [
    "# Create objects\n",
    "car = Car(\"Toyota\", \"Yaris\")\n",
    "motorcycle = Motorcycle(\"Harley-Davidson\", \"Sportster\")\n",
    "electric_car = ElectricCar(\"Tesla\", \"Model 3\")\n",
    "\n",
    "# Print the results of starting and stopping the engine for different vehicles\n",
    "print(car.start_engine())\n",
    "print(car.stop_engine())\n",
    "\n",
    "print(motorcycle.start_engine())\n",
    "print(motorcycle.stop_engine())\n",
    "\n",
    "print(electric_car.start_engine())\n",
    "print(electric_car.stop_engine())"
   ]
  },
  {
   "attachments": {},
   "cell_type": "markdown",
   "metadata": {},
   "source": [
    "### Problemy i trudności związane z dziedziczeniem\n",
    "\n",
    "#### Nadmierny poziom zagnieżdżenia \n",
    "\n",
    "Zbyt głęboka hierarchia dziedziczenia może prowadzić do skomplikowanego i trudnego do zrozumienia kodu. Nadmierna zagnieżdżona hierarchia może być trudna do konserwacji i debugowania."
   ]
  },
  {
   "cell_type": "code",
   "execution_count": null,
   "metadata": {},
   "outputs": [],
   "source": [
    "# Nadmiernie zagnieżdżona hierarchia dziedziczenia prowadzi do bardziej skomplikowanego kodu.\n",
    "\n",
    "class Animal:\n",
    "    def speak(self):\n",
    "        pass\n",
    "\n",
    "class Bird(Animal):\n",
    "    def fly(self):\n",
    "        pass\n",
    "\n",
    "class Parrot(Bird):\n",
    "    def mimic_voice(self):\n",
    "        pass"
   ]
  },
  {
   "attachments": {},
   "cell_type": "markdown",
   "metadata": {},
   "source": [
    "#### Naruszenie zasady Liskov \n",
    "\n",
    "Dziedziczenie może prowadzić do naruszenia zasady Liskov, która mówi, że podklasy powinny być w pełni zastępowalne przez swoje nadklasy. Jeśli to nie jest zachowane, może to prowadzić do nieprzewidywalnych zachowań."
   ]
  },
  {
   "cell_type": "code",
   "execution_count": 6,
   "metadata": {},
   "outputs": [],
   "source": [
    "# Podklasa Square nie jest w pełni zastępowalna przez nadklasę Rectangle\n",
    "\n",
    "class Rectangle:\n",
    "    def set_width(self, width):\n",
    "        pass\n",
    "\n",
    "    def set_height(self, height):\n",
    "        pass\n",
    "\n",
    "class Square(Rectangle):\n",
    "    def set_width(self, side_length):\n",
    "        self.side_length = side_length\n",
    "        self.height = side_length"
   ]
  },
  {
   "attachments": {},
   "cell_type": "markdown",
   "metadata": {},
   "source": [
    "#### Problem zależności między klasami \n",
    "\n",
    "Dziedziczenie tworzy silne zależności między nadklasą a jej podklasami. To oznacza, że zmiany w nadklasie mogą wpłynąć na wiele podklas, co utrudnia modyfikacje i konserwację kodu."
   ]
  },
  {
   "cell_type": "code",
   "execution_count": 7,
   "metadata": {},
   "outputs": [],
   "source": [
    "# Zmiana w nadklasie Vehicle może wpłynąć na wiele podklas, co może być problematyczne w zarządzaniu kodem\n",
    "\n",
    "class Vehicle:\n",
    "    def start_engine(self):\n",
    "        pass\n",
    "\n",
    "class Car(Vehicle):\n",
    "    def start_engine(self):\n",
    "        # ...\n",
    "        pass\n",
    "\n",
    "class Motorcycle(Vehicle):\n",
    "    def start_engine(self):\n",
    "        # ...\n",
    "        pass"
   ]
  },
  {
   "attachments": {},
   "cell_type": "markdown",
   "metadata": {},
   "source": [
    "#### Płytka hierarchia \n",
    "\n",
    "Zbyt płytka hierarchia dziedziczenia może prowadzić do duplikacji kodu w wielu miejscach, co jest nieefektywne i trudne do zarządzania."
   ]
  },
  {
   "cell_type": "code",
   "execution_count": 8,
   "metadata": {},
   "outputs": [],
   "source": [
    "# Taka hierarchia klas tworzy wiele powtarzających się funkcji area, co prowadzi do duplikacji kodu.\n",
    "\n",
    "class Circle:\n",
    "    def area(self):\n",
    "        pass\n",
    "\n",
    "class Square:\n",
    "    def area(self):\n",
    "        pass\n",
    "\n",
    "class Triangle:\n",
    "    def area(self):\n",
    "        pass"
   ]
  }
 ],
 "metadata": {
  "kernelspec": {
   "display_name": "Python 3",
   "language": "python",
   "name": "python3"
  },
  "language_info": {
   "codemirror_mode": {
    "name": "ipython",
    "version": 3
   },
   "file_extension": ".py",
   "mimetype": "text/x-python",
   "name": "python",
   "nbconvert_exporter": "python",
   "pygments_lexer": "ipython3",
   "version": "3.6.4"
  }
 },
 "nbformat": 4,
 "nbformat_minor": 2
}
